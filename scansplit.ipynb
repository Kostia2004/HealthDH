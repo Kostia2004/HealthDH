{
 "cells": [
  {
   "cell_type": "code",
   "execution_count": 29,
   "id": "e52a18af",
   "metadata": {},
   "outputs": [],
   "source": [
    "import numpy as np\n",
    "import cv2 as cv\n",
    "import pandas as pd\n",
    "import matplotlib.pyplot as plt\n",
    "from tqdm import tqdm"
   ]
  },
  {
   "cell_type": "code",
   "execution_count": 6,
   "id": "0eabb423",
   "metadata": {},
   "outputs": [
    {
     "data": {
      "text/plain": [
       "('2018_78758_1-1_2019-02-2101_17_57-lv1-12181-25196-6860-3083.jpg',\n",
       " '2018_78758_1-1_2019-02-2101_17_57-lv1-12181-25196-6860-3083_mask.jpg')"
      ]
     },
     "execution_count": 6,
     "metadata": {},
     "output_type": "execute_result"
    }
   ],
   "source": [
    "metadata = pd.read_csv('dataset/metadata.csv')\n",
    "metadata['scan'][0], metadata['mask'][0] "
   ]
  },
  {
   "cell_type": "code",
   "execution_count": 7,
   "id": "da6d870f",
   "metadata": {},
   "outputs": [
    {
     "data": {
      "text/html": [
       "<div>\n",
       "<style scoped>\n",
       "    .dataframe tbody tr th:only-of-type {\n",
       "        vertical-align: middle;\n",
       "    }\n",
       "\n",
       "    .dataframe tbody tr th {\n",
       "        vertical-align: top;\n",
       "    }\n",
       "\n",
       "    .dataframe thead th {\n",
       "        text-align: right;\n",
       "    }\n",
       "</style>\n",
       "<table border=\"1\" class=\"dataframe\">\n",
       "  <thead>\n",
       "    <tr style=\"text-align: right;\">\n",
       "      <th></th>\n",
       "      <th>Unnamed: 0</th>\n",
       "      <th>scan</th>\n",
       "      <th>mask</th>\n",
       "    </tr>\n",
       "  </thead>\n",
       "  <tbody>\n",
       "    <tr>\n",
       "      <th>0</th>\n",
       "      <td>0</td>\n",
       "      <td>2018_78758_1-1_2019-02-2101_17_57-lv1-12181-25...</td>\n",
       "      <td>2018_78758_1-1_2019-02-2101_17_57-lv1-12181-25...</td>\n",
       "    </tr>\n",
       "    <tr>\n",
       "      <th>1</th>\n",
       "      <td>1</td>\n",
       "      <td>D201802734_2019-05-1415_33_06-lv1-29696-27971-...</td>\n",
       "      <td>D201802734_2019-05-1415_33_06-lv1-29696-27971-...</td>\n",
       "    </tr>\n",
       "    <tr>\n",
       "      <th>2</th>\n",
       "      <td>2</td>\n",
       "      <td>2019_04115_1-1_2019-02-2020_13_37-lv1-40690-78...</td>\n",
       "      <td>2019_04115_1-1_2019-02-2020_13_37-lv1-40690-78...</td>\n",
       "    </tr>\n",
       "    <tr>\n",
       "      <th>3</th>\n",
       "      <td>3</td>\n",
       "      <td>18-09530A_2019-05-0723_50_03-lv1-38517-18204-4...</td>\n",
       "      <td>18-09530A_2019-05-0723_50_03-lv1-38517-18204-4...</td>\n",
       "    </tr>\n",
       "    <tr>\n",
       "      <th>4</th>\n",
       "      <td>4</td>\n",
       "      <td>D201709874_2019-05-2112_42_42-lv1-27679-18718-...</td>\n",
       "      <td>D201709874_2019-05-2112_42_42-lv1-27679-18718-...</td>\n",
       "    </tr>\n",
       "  </tbody>\n",
       "</table>\n",
       "</div>"
      ],
      "text/plain": [
       "   Unnamed: 0                                               scan  \\\n",
       "0           0  2018_78758_1-1_2019-02-2101_17_57-lv1-12181-25...   \n",
       "1           1  D201802734_2019-05-1415_33_06-lv1-29696-27971-...   \n",
       "2           2  2019_04115_1-1_2019-02-2020_13_37-lv1-40690-78...   \n",
       "3           3  18-09530A_2019-05-0723_50_03-lv1-38517-18204-4...   \n",
       "4           4  D201709874_2019-05-2112_42_42-lv1-27679-18718-...   \n",
       "\n",
       "                                                mask  \n",
       "0  2018_78758_1-1_2019-02-2101_17_57-lv1-12181-25...  \n",
       "1  D201802734_2019-05-1415_33_06-lv1-29696-27971-...  \n",
       "2  2019_04115_1-1_2019-02-2020_13_37-lv1-40690-78...  \n",
       "3  18-09530A_2019-05-0723_50_03-lv1-38517-18204-4...  \n",
       "4  D201709874_2019-05-2112_42_42-lv1-27679-18718-...  "
      ]
     },
     "execution_count": 7,
     "metadata": {},
     "output_type": "execute_result"
    }
   ],
   "source": [
    "metadata.head()"
   ]
  },
  {
   "cell_type": "code",
   "execution_count": 20,
   "id": "c2742ded",
   "metadata": {},
   "outputs": [],
   "source": [
    "from IPython import display"
   ]
  },
  {
   "cell_type": "code",
   "execution_count": null,
   "id": "a8d6cb70",
   "metadata": {},
   "outputs": [],
   "source": [
    "for i in range(len(metadata)):\n",
    "    scanImage = cv.imread('./dataset/scans/'+metadata['scan'][i], cv.IMREAD_GRAYSCALE)\n",
    "    maskImage = cv.imread('./dataset/masks/'+metadata['mask'][i], cv.IMREAD_GRAYSCALE)\n",
    "    print(scanImage.shape)\n",
    "    pairs = []\n",
    "    for x in tqdm(range(0, scanImage.shape[0]//2+512, 512)):\n",
    "        for y in range(0, scanImage.shape[1]//2, 512):\n",
    "            pairs.append([scanImage[x:x+512,y:y+512], maskImage[x:x+512,y:y+512]])\n",
    "        for y in range(scanImage.shape[1], scanImage.shape[1]//2-512, -512):\n",
    "            pairs.append([scanImage[x:x+512,y-512:y], maskImage[x:x+512,y-512:y]])\n",
    "            \n",
    "    for x in tqdm(range(scanImage.shape[0], scanImage.shape[0]//2-512, -512)):\n",
    "        for y in range(0, scanImage.shape[1]//2, 512):\n",
    "            pairs.append([scanImage[x-512:x,y:y+512], maskImage[x-512:x,y:y+512]])\n",
    "        for y in range(scanImage.shape[1], scanImage.shape[1]//2, -512):\n",
    "            pairs.append([scanImage[x-512:x,y-512:y], maskImage[x-512:x,y-512:y]])\n",
    "            \n",
    "    print('='*20)\n",
    "    print(len(pairs))\n",
    "    print('='*20)\n",
    "    for pair in pairs:\n",
    "        fig = plt.figure(figsize=(40, 20))\n",
    "        plt.subplot(1,2,1)\n",
    "        plt.imshow(pair[0], cmap='bone')\n",
    "        plt.subplot(1,2,2)\n",
    "        plt.imshow(pair[1])\n",
    "        plt.show()"
   ]
  },
  {
   "cell_type": "code",
   "execution_count": null,
   "id": "9f73323f",
   "metadata": {},
   "outputs": [],
   "source": []
  }
 ],
 "metadata": {
  "kernelspec": {
   "display_name": "Python 3 (ipykernel)",
   "language": "python",
   "name": "python3"
  },
  "language_info": {
   "codemirror_mode": {
    "name": "ipython",
    "version": 3
   },
   "file_extension": ".py",
   "mimetype": "text/x-python",
   "name": "python",
   "nbconvert_exporter": "python",
   "pygments_lexer": "ipython3",
   "version": "3.10.2"
  }
 },
 "nbformat": 4,
 "nbformat_minor": 5
}
